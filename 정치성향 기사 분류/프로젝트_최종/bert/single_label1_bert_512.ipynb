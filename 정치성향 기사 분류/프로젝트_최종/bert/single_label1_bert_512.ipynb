{
  "nbformat": 4,
  "nbformat_minor": 0,
  "metadata": {
    "colab": {
      "provenance": [],
      "machine_shape": "hm",
      "gpuType": "A100"
    },
    "kernelspec": {
      "name": "python3",
      "display_name": "Python 3"
    },
    "language_info": {
      "name": "python"
    },
    "accelerator": "GPU"
  },
  "cells": [
    {
      "cell_type": "code",
      "execution_count": 1,
      "metadata": {
        "colab": {
          "base_uri": "https://localhost:8080/"
        },
        "id": "chQTf0iKLHOt",
        "outputId": "e8eca760-c910-4ad0-de97-ea822220e852"
      },
      "outputs": [
        {
          "output_type": "stream",
          "name": "stdout",
          "text": [
            "Requirement already satisfied: transformers in /usr/local/lib/python3.10/dist-packages (4.33.2)\n",
            "Requirement already satisfied: filelock in /usr/local/lib/python3.10/dist-packages (from transformers) (3.12.2)\n",
            "Requirement already satisfied: huggingface-hub<1.0,>=0.15.1 in /usr/local/lib/python3.10/dist-packages (from transformers) (0.17.2)\n",
            "Requirement already satisfied: numpy>=1.17 in /usr/local/lib/python3.10/dist-packages (from transformers) (1.23.5)\n",
            "Requirement already satisfied: packaging>=20.0 in /usr/local/lib/python3.10/dist-packages (from transformers) (23.1)\n",
            "Requirement already satisfied: pyyaml>=5.1 in /usr/local/lib/python3.10/dist-packages (from transformers) (6.0.1)\n",
            "Requirement already satisfied: regex!=2019.12.17 in /usr/local/lib/python3.10/dist-packages (from transformers) (2023.6.3)\n",
            "Requirement already satisfied: requests in /usr/local/lib/python3.10/dist-packages (from transformers) (2.31.0)\n",
            "Requirement already satisfied: tokenizers!=0.11.3,<0.14,>=0.11.1 in /usr/local/lib/python3.10/dist-packages (from transformers) (0.13.3)\n",
            "Requirement already satisfied: safetensors>=0.3.1 in /usr/local/lib/python3.10/dist-packages (from transformers) (0.3.3)\n",
            "Requirement already satisfied: tqdm>=4.27 in /usr/local/lib/python3.10/dist-packages (from transformers) (4.66.1)\n",
            "Requirement already satisfied: fsspec in /usr/local/lib/python3.10/dist-packages (from huggingface-hub<1.0,>=0.15.1->transformers) (2023.6.0)\n",
            "Requirement already satisfied: typing-extensions>=3.7.4.3 in /usr/local/lib/python3.10/dist-packages (from huggingface-hub<1.0,>=0.15.1->transformers) (4.5.0)\n",
            "Requirement already satisfied: charset-normalizer<4,>=2 in /usr/local/lib/python3.10/dist-packages (from requests->transformers) (3.2.0)\n",
            "Requirement already satisfied: idna<4,>=2.5 in /usr/local/lib/python3.10/dist-packages (from requests->transformers) (3.4)\n",
            "Requirement already satisfied: urllib3<3,>=1.21.1 in /usr/local/lib/python3.10/dist-packages (from requests->transformers) (2.0.4)\n",
            "Requirement already satisfied: certifi>=2017.4.17 in /usr/local/lib/python3.10/dist-packages (from requests->transformers) (2023.7.22)\n"
          ]
        }
      ],
      "source": [
        "!pip install transformers"
      ]
    },
    {
      "cell_type": "code",
      "source": [
        "import pandas as pd\n",
        "import torch\n",
        "from torch.nn import CrossEntropyLoss\n",
        "from torch.optim import Adam\n",
        "from transformers import BertTokenizer, BertForSequenceClassification, BertConfig\n",
        "from sklearn.model_selection import train_test_split\n",
        "from torch.utils.data import DataLoader, TensorDataset\n",
        "from sklearn.model_selection import train_test_split\n",
        "from sklearn.metrics import f1_score\n",
        "from tqdm import tqdm"
      ],
      "metadata": {
        "id": "dTvpSGI4Lvj7"
      },
      "execution_count": 2,
      "outputs": []
    },
    {
      "cell_type": "code",
      "source": [
        "# 데이터 불러오기\n",
        "df_train = pd.read_csv('complete_train.csv')\n",
        "df_test = pd.read_csv('complete_test.csv')"
      ],
      "metadata": {
        "id": "DPSiMvcuFpDv"
      },
      "execution_count": 3,
      "outputs": []
    },
    {
      "cell_type": "code",
      "source": [
        "df_train['text'] = df_train['title'] + ' ' + df_train['content']\n",
        "df_test['text'] = df_test['title'] + ' ' + df_test['content']\n",
        "\n",
        "# NaN 값을 포함하는 행 삭제\n",
        "df_train.dropna(subset=['text'], inplace=True)"
      ],
      "metadata": {
        "id": "5ME_-mBtMDph"
      },
      "execution_count": 4,
      "outputs": []
    },
    {
      "cell_type": "code",
      "source": [
        "# 원본 데이터를 학습 데이터와 테스트 데이터로 나눔\n",
        "train_df, val_df = train_test_split(df_train, test_size=500, random_state=42)"
      ],
      "metadata": {
        "id": "DnxUXT0eS7af"
      },
      "execution_count": 5,
      "outputs": []
    },
    {
      "cell_type": "code",
      "source": [
        "# KoBERT 토크나이저 로드\n",
        "tokenizer = BertTokenizer.from_pretrained('monologg/kobert')"
      ],
      "metadata": {
        "id": "EQOhdAQVTCBZ"
      },
      "execution_count": 6,
      "outputs": []
    },
    {
      "cell_type": "code",
      "source": [
        "def encode_data(texts, tokenizer, max_len=512):\n",
        "    all_tokens = []\n",
        "    all_masks = []\n",
        "\n",
        "    for text in texts:\n",
        "        encoded_dict = tokenizer.encode_plus(\n",
        "            text,\n",
        "            add_special_tokens=True,\n",
        "            max_length=max_len,\n",
        "            truncation=True,\n",
        "            return_attention_mask=True,\n",
        "            return_tensors='pt'\n",
        "        )\n",
        "\n",
        "        # 직접 패딩 수행\n",
        "        padding_length = max_len - len(encoded_dict['input_ids'][0])\n",
        "        all_tokens.append(torch.cat([encoded_dict['input_ids'], torch.zeros((1, padding_length), dtype=torch.long)], dim=1))\n",
        "        all_masks.append(torch.cat([encoded_dict['attention_mask'], torch.zeros((1, padding_length), dtype=torch.long)], dim=1))\n",
        "\n",
        "    all_tokens = torch.cat(all_tokens, dim=0)\n",
        "    all_masks = torch.cat(all_masks, dim=0)\n",
        "\n",
        "    return all_tokens, all_masks"
      ],
      "metadata": {
        "id": "QYasfbwgLxpi"
      },
      "execution_count": 7,
      "outputs": []
    },
    {
      "cell_type": "code",
      "source": [
        "# 학습 데이터 인코딩\n",
        "train_input_ids, train_attention_masks = encode_data(train_df['text'], tokenizer)\n",
        "train_labels1 = torch.tensor(train_df['label1'].values) - 1\n",
        "\n",
        "# 테스트 데이터 인코딩 및 성능 평가\n",
        "val_input_ids, val_attention_masks = encode_data(val_df['text'], tokenizer)\n",
        "val_labels1 = torch.tensor(val_df['label1'].values) - 1"
      ],
      "metadata": {
        "id": "6mkvTRPfL8RJ"
      },
      "execution_count": 8,
      "outputs": []
    },
    {
      "cell_type": "code",
      "source": [
        "# 데이터셋 및 데이터 로더 생성\n",
        "train_dataset = TensorDataset(train_input_ids, train_attention_masks, train_labels1)\n",
        "train_dataloader = DataLoader(train_dataset, batch_size=4, shuffle=True)\n",
        "\n",
        "val_dataset = TensorDataset(val_input_ids, val_attention_masks, val_labels1)\n",
        "val_dataloader = DataLoader(val_dataset, batch_size=2, shuffle=False)"
      ],
      "metadata": {
        "id": "q0-a9xcHTXs4"
      },
      "execution_count": 9,
      "outputs": []
    },
    {
      "cell_type": "code",
      "source": [
        "device = torch.device(\"cuda\" if torch.cuda.is_available() else \"cpu\")\n",
        "\n",
        "\n",
        "# 모델 정의\n",
        "class KoBERTForSingleLabelClassification(torch.nn.Module):\n",
        "    def __init__(self, num_labels):\n",
        "        super(KoBERTForSingleLabelClassification, self).__init__()\n",
        "        self.config = BertConfig.from_pretrained('monologg/kobert', num_labels=num_labels, output_hidden_states=True)\n",
        "        self.bert = BertForSequenceClassification.from_pretrained('monologg/kobert', config=self.config)\n",
        "\n",
        "    def forward(self, input_ids, attention_mask):\n",
        "        outputs = self.bert(input_ids, attention_mask=attention_mask)\n",
        "        return outputs.logits\n",
        "\n",
        "\n",
        "model = KoBERTForSingleLabelClassification(train_df['label1'].nunique()).to(device)\n",
        "optimizer = Adam(model.parameters(), lr=1e-5)\n",
        "loss_fn = torch.nn.CrossEntropyLoss()"
      ],
      "metadata": {
        "colab": {
          "base_uri": "https://localhost:8080/"
        },
        "id": "HUk9iR7tL-H6",
        "outputId": "e39dc539-3489-4fa4-a02b-e31993bf73e3"
      },
      "execution_count": 10,
      "outputs": [
        {
          "output_type": "stream",
          "name": "stderr",
          "text": [
            "Some weights of BertForSequenceClassification were not initialized from the model checkpoint at monologg/kobert and are newly initialized: ['classifier.bias', 'classifier.weight']\n",
            "You should probably TRAIN this model on a down-stream task to be able to use it for predictions and inference.\n"
          ]
        }
      ]
    },
    {
      "cell_type": "code",
      "source": [
        "from sklearn.metrics import f1_score\n",
        "\n",
        "EPOCHS = 20\n",
        "train_losses = []\n",
        "val_losses = []\n",
        "val_accuracies = []\n",
        "val_f1_scores = []\n",
        "best_accuracy = 0\n",
        "best_model_path = \"best_model_label1.pth\"\n",
        "\n",
        "for epoch in range(EPOCHS):\n",
        "    model.train()\n",
        "    total_loss = 0\n",
        "    total_correct = 0\n",
        "    total_samples = 0\n",
        "\n",
        "    for batch in tqdm(train_dataloader, desc=f\"Training Epoch {epoch+1}/{EPOCHS}\"):\n",
        "        optimizer.zero_grad()\n",
        "        input_ids, attention_mask, label = [b.to(device) for b in batch]\n",
        "        logits = model(input_ids, attention_mask=attention_mask)\n",
        "\n",
        "        loss = loss_fn(logits, label)\n",
        "        loss.backward()\n",
        "        optimizer.step()\n",
        "\n",
        "        total_loss += loss.item()\n",
        "        total_correct += (logits.argmax(dim=1) == label).sum().item()\n",
        "        total_samples += label.size(0)\n",
        "\n",
        "    avg_train_loss = total_loss / total_samples\n",
        "    train_losses.append(avg_train_loss)\n",
        "\n",
        "    # Evaluate on validation set\n",
        "    model.eval()\n",
        "    val_loss = 0\n",
        "    val_correct = 0\n",
        "    val_samples = 0\n",
        "    all_preds = []\n",
        "    all_labels = []\n",
        "\n",
        "    with torch.no_grad():\n",
        "        for batch in val_dataloader:\n",
        "            input_ids, attention_mask, label = [b.to(device) for b in batch]\n",
        "            logits = model(input_ids, attention_mask=attention_mask)\n",
        "\n",
        "            loss = loss_fn(logits, label)\n",
        "            val_loss += loss.item()\n",
        "\n",
        "            preds = logits.argmax(dim=1)\n",
        "            all_preds.extend(preds.cpu().numpy())\n",
        "            all_labels.extend(label.cpu().numpy())\n",
        "\n",
        "            val_correct += (preds == label).sum().item()\n",
        "            val_samples += label.size(0)\n",
        "\n",
        "    avg_val_loss = val_loss / val_samples\n",
        "    val_losses.append(avg_val_loss)\n",
        "    val_accuracy = val_correct / val_samples\n",
        "    val_accuracies.append(val_accuracy)\n",
        "\n",
        "    current_f1 = f1_score(all_labels, all_preds, average='macro')\n",
        "    val_f1_scores.append(current_f1)\n",
        "\n",
        "    # 최고 정확도를 갱신할 경우 모델 저장\n",
        "    if val_accuracy > best_accuracy:\n",
        "        best_accuracy = val_accuracy\n",
        "        torch.save(model.state_dict(), best_model_path)\n",
        "        print(f\"Model saved for epoch {epoch+1} with accuracy: {best_accuracy:.4f}\")\n",
        "\n",
        "    # 출력 코드 추가\n",
        "    print(f\"Epoch {epoch+1}/{EPOCHS}\")\n",
        "    print(f\"Train Loss: {avg_train_loss:.4f}\")\n",
        "    print(f\"Validation Loss: {avg_val_loss:.4f}\")\n",
        "    print(f\"Validation Accuracy1: {val_accuracy:.4f}\")\n",
        "    print(f\"Validation F1 Score for Label1: {current_f1:.4f}\")\n",
        "    print(\"===================================\")\n",
        "    print()\n",
        "    print()\n"
      ],
      "metadata": {
        "colab": {
          "base_uri": "https://localhost:8080/"
        },
        "id": "r4EGXOjRPBhB",
        "outputId": "0929b453-8ae7-437f-88aa-e32a08be9df2"
      },
      "execution_count": 11,
      "outputs": [
        {
          "output_type": "stream",
          "name": "stderr",
          "text": [
            "Training Epoch 1/20: 100%|██████████| 1000/1000 [01:42<00:00,  9.76it/s]\n"
          ]
        },
        {
          "output_type": "stream",
          "name": "stdout",
          "text": [
            "Model saved for epoch 1 with accuracy: 0.4760\n",
            "Epoch 1/20\n",
            "Train Loss: 0.3416\n",
            "Validation Loss: 0.6585\n",
            "Validation Accuracy1: 0.4760\n",
            "Validation F1 Score for Label1: 0.2094\n",
            "===================================\n",
            "\n",
            "\n"
          ]
        },
        {
          "output_type": "stream",
          "name": "stderr",
          "text": [
            "Training Epoch 2/20: 100%|██████████| 1000/1000 [01:41<00:00,  9.86it/s]\n"
          ]
        },
        {
          "output_type": "stream",
          "name": "stdout",
          "text": [
            "Epoch 2/20\n",
            "Train Loss: 0.3224\n",
            "Validation Loss: 0.6393\n",
            "Validation Accuracy1: 0.4660\n",
            "Validation F1 Score for Label1: 0.2065\n",
            "===================================\n",
            "\n",
            "\n"
          ]
        },
        {
          "output_type": "stream",
          "name": "stderr",
          "text": [
            "Training Epoch 3/20: 100%|██████████| 1000/1000 [01:41<00:00,  9.86it/s]\n"
          ]
        },
        {
          "output_type": "stream",
          "name": "stdout",
          "text": [
            "Model saved for epoch 3 with accuracy: 0.4820\n",
            "Epoch 3/20\n",
            "Train Loss: 0.3112\n",
            "Validation Loss: 0.6248\n",
            "Validation Accuracy1: 0.4820\n",
            "Validation F1 Score for Label1: 0.2177\n",
            "===================================\n",
            "\n",
            "\n"
          ]
        },
        {
          "output_type": "stream",
          "name": "stderr",
          "text": [
            "Training Epoch 4/20: 100%|██████████| 1000/1000 [01:40<00:00,  9.91it/s]\n"
          ]
        },
        {
          "output_type": "stream",
          "name": "stdout",
          "text": [
            "Epoch 4/20\n",
            "Train Loss: 0.3099\n",
            "Validation Loss: 0.6470\n",
            "Validation Accuracy1: 0.4580\n",
            "Validation F1 Score for Label1: 0.2067\n",
            "===================================\n",
            "\n",
            "\n"
          ]
        },
        {
          "output_type": "stream",
          "name": "stderr",
          "text": [
            "Training Epoch 5/20: 100%|██████████| 1000/1000 [01:41<00:00,  9.89it/s]\n"
          ]
        },
        {
          "output_type": "stream",
          "name": "stdout",
          "text": [
            "Model saved for epoch 5 with accuracy: 0.4840\n",
            "Epoch 5/20\n",
            "Train Loss: 0.3034\n",
            "Validation Loss: 0.6169\n",
            "Validation Accuracy1: 0.4840\n",
            "Validation F1 Score for Label1: 0.2179\n",
            "===================================\n",
            "\n",
            "\n"
          ]
        },
        {
          "output_type": "stream",
          "name": "stderr",
          "text": [
            "Training Epoch 6/20: 100%|██████████| 1000/1000 [01:40<00:00,  9.93it/s]\n"
          ]
        },
        {
          "output_type": "stream",
          "name": "stdout",
          "text": [
            "Epoch 6/20\n",
            "Train Loss: 0.2955\n",
            "Validation Loss: 0.6173\n",
            "Validation Accuracy1: 0.4780\n",
            "Validation F1 Score for Label1: 0.2325\n",
            "===================================\n",
            "\n",
            "\n"
          ]
        },
        {
          "output_type": "stream",
          "name": "stderr",
          "text": [
            "Training Epoch 7/20: 100%|██████████| 1000/1000 [01:41<00:00,  9.86it/s]\n"
          ]
        },
        {
          "output_type": "stream",
          "name": "stdout",
          "text": [
            "Model saved for epoch 7 with accuracy: 0.5000\n",
            "Epoch 7/20\n",
            "Train Loss: 0.2889\n",
            "Validation Loss: 0.6219\n",
            "Validation Accuracy1: 0.5000\n",
            "Validation F1 Score for Label1: 0.2809\n",
            "===================================\n",
            "\n",
            "\n"
          ]
        },
        {
          "output_type": "stream",
          "name": "stderr",
          "text": [
            "Training Epoch 8/20: 100%|██████████| 1000/1000 [01:41<00:00,  9.87it/s]\n"
          ]
        },
        {
          "output_type": "stream",
          "name": "stdout",
          "text": [
            "Epoch 8/20\n",
            "Train Loss: 0.2780\n",
            "Validation Loss: 0.5960\n",
            "Validation Accuracy1: 0.4900\n",
            "Validation F1 Score for Label1: 0.2860\n",
            "===================================\n",
            "\n",
            "\n"
          ]
        },
        {
          "output_type": "stream",
          "name": "stderr",
          "text": [
            "Training Epoch 9/20: 100%|██████████| 1000/1000 [01:41<00:00,  9.86it/s]\n"
          ]
        },
        {
          "output_type": "stream",
          "name": "stdout",
          "text": [
            "Epoch 9/20\n",
            "Train Loss: 0.2681\n",
            "Validation Loss: 0.6060\n",
            "Validation Accuracy1: 0.4700\n",
            "Validation F1 Score for Label1: 0.2828\n",
            "===================================\n",
            "\n",
            "\n"
          ]
        },
        {
          "output_type": "stream",
          "name": "stderr",
          "text": [
            "Training Epoch 10/20: 100%|██████████| 1000/1000 [01:41<00:00,  9.85it/s]\n"
          ]
        },
        {
          "output_type": "stream",
          "name": "stdout",
          "text": [
            "Epoch 10/20\n",
            "Train Loss: 0.2526\n",
            "Validation Loss: 0.6302\n",
            "Validation Accuracy1: 0.4660\n",
            "Validation F1 Score for Label1: 0.3133\n",
            "===================================\n",
            "\n",
            "\n"
          ]
        },
        {
          "output_type": "stream",
          "name": "stderr",
          "text": [
            "Training Epoch 11/20: 100%|██████████| 1000/1000 [01:41<00:00,  9.86it/s]\n"
          ]
        },
        {
          "output_type": "stream",
          "name": "stdout",
          "text": [
            "Epoch 11/20\n",
            "Train Loss: 0.2428\n",
            "Validation Loss: 0.6737\n",
            "Validation Accuracy1: 0.4720\n",
            "Validation F1 Score for Label1: 0.3519\n",
            "===================================\n",
            "\n",
            "\n"
          ]
        },
        {
          "output_type": "stream",
          "name": "stderr",
          "text": [
            "Training Epoch 12/20: 100%|██████████| 1000/1000 [01:41<00:00,  9.86it/s]\n"
          ]
        },
        {
          "output_type": "stream",
          "name": "stdout",
          "text": [
            "Epoch 12/20\n",
            "Train Loss: 0.2285\n",
            "Validation Loss: 0.6148\n",
            "Validation Accuracy1: 0.4920\n",
            "Validation F1 Score for Label1: 0.3771\n",
            "===================================\n",
            "\n",
            "\n"
          ]
        },
        {
          "output_type": "stream",
          "name": "stderr",
          "text": [
            "Training Epoch 13/20: 100%|██████████| 1000/1000 [01:41<00:00,  9.88it/s]\n"
          ]
        },
        {
          "output_type": "stream",
          "name": "stdout",
          "text": [
            "Epoch 13/20\n",
            "Train Loss: 0.2098\n",
            "Validation Loss: 0.6565\n",
            "Validation Accuracy1: 0.4580\n",
            "Validation F1 Score for Label1: 0.3611\n",
            "===================================\n",
            "\n",
            "\n"
          ]
        },
        {
          "output_type": "stream",
          "name": "stderr",
          "text": [
            "Training Epoch 14/20: 100%|██████████| 1000/1000 [01:41<00:00,  9.87it/s]\n"
          ]
        },
        {
          "output_type": "stream",
          "name": "stdout",
          "text": [
            "Model saved for epoch 14 with accuracy: 0.5120\n",
            "Epoch 14/20\n",
            "Train Loss: 0.1916\n",
            "Validation Loss: 0.6628\n",
            "Validation Accuracy1: 0.5120\n",
            "Validation F1 Score for Label1: 0.3979\n",
            "===================================\n",
            "\n",
            "\n"
          ]
        },
        {
          "output_type": "stream",
          "name": "stderr",
          "text": [
            "Training Epoch 15/20: 100%|██████████| 1000/1000 [01:41<00:00,  9.86it/s]\n"
          ]
        },
        {
          "output_type": "stream",
          "name": "stdout",
          "text": [
            "Epoch 15/20\n",
            "Train Loss: 0.1701\n",
            "Validation Loss: 0.6901\n",
            "Validation Accuracy1: 0.4960\n",
            "Validation F1 Score for Label1: 0.3881\n",
            "===================================\n",
            "\n",
            "\n"
          ]
        },
        {
          "output_type": "stream",
          "name": "stderr",
          "text": [
            "Training Epoch 16/20: 100%|██████████| 1000/1000 [01:41<00:00,  9.84it/s]\n"
          ]
        },
        {
          "output_type": "stream",
          "name": "stdout",
          "text": [
            "Epoch 16/20\n",
            "Train Loss: 0.1556\n",
            "Validation Loss: 0.7193\n",
            "Validation Accuracy1: 0.4900\n",
            "Validation F1 Score for Label1: 0.3366\n",
            "===================================\n",
            "\n",
            "\n"
          ]
        },
        {
          "output_type": "stream",
          "name": "stderr",
          "text": [
            "Training Epoch 17/20: 100%|██████████| 1000/1000 [01:41<00:00,  9.86it/s]\n"
          ]
        },
        {
          "output_type": "stream",
          "name": "stdout",
          "text": [
            "Epoch 17/20\n",
            "Train Loss: 0.1359\n",
            "Validation Loss: 0.8194\n",
            "Validation Accuracy1: 0.4820\n",
            "Validation F1 Score for Label1: 0.3784\n",
            "===================================\n",
            "\n",
            "\n"
          ]
        },
        {
          "output_type": "stream",
          "name": "stderr",
          "text": [
            "Training Epoch 18/20: 100%|██████████| 1000/1000 [01:41<00:00,  9.86it/s]\n"
          ]
        },
        {
          "output_type": "stream",
          "name": "stdout",
          "text": [
            "Epoch 18/20\n",
            "Train Loss: 0.1219\n",
            "Validation Loss: 0.8290\n",
            "Validation Accuracy1: 0.4700\n",
            "Validation F1 Score for Label1: 0.3730\n",
            "===================================\n",
            "\n",
            "\n"
          ]
        },
        {
          "output_type": "stream",
          "name": "stderr",
          "text": [
            "Training Epoch 19/20: 100%|██████████| 1000/1000 [01:41<00:00,  9.86it/s]\n"
          ]
        },
        {
          "output_type": "stream",
          "name": "stdout",
          "text": [
            "Epoch 19/20\n",
            "Train Loss: 0.1023\n",
            "Validation Loss: 0.8559\n",
            "Validation Accuracy1: 0.4860\n",
            "Validation F1 Score for Label1: 0.3890\n",
            "===================================\n",
            "\n",
            "\n"
          ]
        },
        {
          "output_type": "stream",
          "name": "stderr",
          "text": [
            "Training Epoch 20/20: 100%|██████████| 1000/1000 [01:41<00:00,  9.86it/s]\n"
          ]
        },
        {
          "output_type": "stream",
          "name": "stdout",
          "text": [
            "Epoch 20/20\n",
            "Train Loss: 0.0879\n",
            "Validation Loss: 0.9232\n",
            "Validation Accuracy1: 0.4940\n",
            "Validation F1 Score for Label1: 0.4014\n",
            "===================================\n",
            "\n",
            "\n"
          ]
        }
      ]
    },
    {
      "cell_type": "code",
      "source": [
        "import matplotlib.pyplot as plt\n",
        "\n",
        "# Plotting Train and Validation Loss, Accuracy and F1 Score\n",
        "plt.figure(figsize=(18, 6))\n",
        "\n",
        "# Train and Validation Loss\n",
        "plt.subplot(1, 3, 1)\n",
        "plt.plot(range(EPOCHS), train_losses, label=\"Train Loss\")\n",
        "plt.plot(range(EPOCHS), val_losses, label=\"Validation Loss\")\n",
        "plt.xlabel(\"Epochs\")\n",
        "plt.ylabel(\"Loss\")\n",
        "plt.title(\"Train and Validation Loss over Epochs\")\n",
        "plt.legend()\n",
        "\n",
        "# Validation Accuracy\n",
        "plt.subplot(1, 3, 2)\n",
        "plt.plot(range(EPOCHS), val_accuracies, label=\"Validation Accuracy\")\n",
        "plt.xlabel(\"Epochs\")\n",
        "plt.ylabel(\"Accuracy\")\n",
        "plt.title(\"Validation Accuracy over Epochs\")\n",
        "plt.legend()\n",
        "\n",
        "# Validation F1 Score\n",
        "plt.subplot(1, 3, 3)\n",
        "plt.plot(range(EPOCHS), val_f1_scores, label=\"Validation F1 Score\")\n",
        "plt.xlabel(\"Epochs\")\n",
        "plt.ylabel(\"F1 Score\")\n",
        "plt.title(\"Validation F1 Score over Epochs\")\n",
        "plt.legend()\n",
        "\n",
        "plt.tight_layout()\n",
        "plt.show()\n"
      ],
      "metadata": {
        "colab": {
          "base_uri": "https://localhost:8080/",
          "height": 336
        },
        "id": "uvZcd4Wk091e",
        "outputId": "d16d72de-ad40-4a62-d153-c7861bdafd4d"
      },
      "execution_count": 12,
      "outputs": [
        {
          "output_type": "display_data",
          "data": {
            "text/plain": [
              "<Figure size 1800x600 with 3 Axes>"
            ],
            "image/png": "[encoded data removed]"
          },
          "metadata": {}
        }
      ]
    },
    {
      "cell_type": "code",
      "source": [
        "# 학습 데이터 인코딩\n",
        "test_input_ids, test_attention_masks = encode_data(df_test['text'], tokenizer)\n",
        "test_labels1 = torch.tensor(df_test['label1'].values) - 1\n",
        "\n",
        "test_dataset = TensorDataset(test_input_ids, test_attention_masks, test_labels1)\n",
        "test_dataloader = DataLoader(test_dataset, batch_size=2, shuffle=False)"
      ],
      "metadata": {
        "id": "MriJKmpIMpUk"
      },
      "execution_count": 13,
      "outputs": []
    },
    {
      "cell_type": "code",
      "source": [
        "# 학습이 끝난 후 가장 좋은 성능을 보인 모델을 불러옵니다.\n",
        "model.load_state_dict(torch.load(best_model_path))\n",
        "model.eval()\n",
        "\n",
        "# 테스트 데이터셋에 대한 예측을 수행\n",
        "true_labels1 = []\n",
        "predicted_labels1 = []\n",
        "top2_preds = []\n",
        "\n",
        "with torch.no_grad():\n",
        "    for batch in test_dataloader:\n",
        "        input_ids, attention_mask, label1 = [b.to(device) for b in batch]\n",
        "        logits1 = model(input_ids, attention_mask=attention_mask)\n",
        "\n",
        "        true_labels1.extend(label1.tolist())\n",
        "        predicted_labels1.extend(logits1.argmax(dim=1).tolist())\n",
        "\n",
        "        # Top-2 predictions\n",
        "        _, top2_indices = torch.topk(logits1, 2, dim=1)\n",
        "        top2_preds.extend(top2_indices.tolist())\n",
        "\n",
        "# Top-2 Accuracy 계산\n",
        "top2_accuracy = sum([1 for true, preds in zip(true_labels1, top2_preds) if true in preds]) / len(true_labels1)\n",
        "\n",
        "# f1-score를 포함한 성능 지표를 출력\n",
        "accuracy1 = sum([1 if true == pred else 0 for true, pred in zip(true_labels1, predicted_labels1)]) / len(true_labels1)\n",
        "f1_1 = f1_score(true_labels1, predicted_labels1, average='weighted')\n",
        "\n",
        "print(f\"Test Accuracy for Label1: {accuracy1:.4f}\")\n",
        "print(f\"Top-2 Accuracy for Label1: {top2_accuracy:.4f}\")\n",
        "print(f\"F1 Score for Label1: {f1_1:.4f}\")\n"
      ],
      "metadata": {
        "colab": {
          "base_uri": "https://localhost:8080/"
        },
        "id": "rI6F4hzPQE3l",
        "outputId": "bb881c25-5d20-459f-af7a-a826a91c8e3a"
      },
      "execution_count": 14,
      "outputs": [
        {
          "output_type": "stream",
          "name": "stdout",
          "text": [
            "Test Accuracy for Label1: 0.4020\n",
            "Top-2 Accuracy for Label1: 0.6360\n",
            "F1 Score for Label1: 0.3908\n"
          ]
        }
      ]
    },
    {
      "cell_type": "code",
      "source": [
        "print(\"\\nTrue vs Predicted Labels:\")\n",
        "for true1, pred1 in zip(true_labels1, predicted_labels1):\n",
        "    print(f\"Label1 - True: {true1 + 1}, Predicted: {pred1 + 1}\")"
      ],
      "metadata": {
        "id": "W8EKyjwzsqKb",
        "colab": {
          "base_uri": "https://localhost:8080/"
        },
        "outputId": "de7495aa-155b-476d-affd-1a9801fd7229"
      },
      "execution_count": 15,
      "outputs": [
        {
          "output_type": "stream",
          "name": "stdout",
          "text": [
            "\n",
            "True vs Predicted Labels:\n",
            "Label1 - True: 1, Predicted: 1\n",
            "Label1 - True: 1, Predicted: 3\n",
            "Label1 - True: 1, Predicted: 1\n",
            "Label1 - True: 1, Predicted: 1\n",
            "Label1 - True: 1, Predicted: 1\n",
            "Label1 - True: 1, Predicted: 4\n",
            "Label1 - True: 1, Predicted: 1\n",
            "Label1 - True: 1, Predicted: 2\n",
            "Label1 - True: 1, Predicted: 1\n",
            "Label1 - True: 1, Predicted: 1\n",
            "Label1 - True: 1, Predicted: 3\n",
            "Label1 - True: 1, Predicted: 4\n",
            "Label1 - True: 1, Predicted: 2\n",
            "Label1 - True: 1, Predicted: 1\n",
            "Label1 - True: 1, Predicted: 1\n",
            "Label1 - True: 1, Predicted: 4\n",
            "Label1 - True: 1, Predicted: 4\n",
            "Label1 - True: 1, Predicted: 1\n",
            "Label1 - True: 1, Predicted: 2\n",
            "Label1 - True: 1, Predicted: 2\n",
            "Label1 - True: 1, Predicted: 5\n",
            "Label1 - True: 1, Predicted: 1\n",
            "Label1 - True: 1, Predicted: 1\n",
            "Label1 - True: 1, Predicted: 1\n",
            "Label1 - True: 1, Predicted: 1\n",
            "Label1 - True: 1, Predicted: 5\n",
            "Label1 - True: 1, Predicted: 4\n",
            "Label1 - True: 1, Predicted: 5\n",
            "Label1 - True: 1, Predicted: 2\n",
            "Label1 - True: 1, Predicted: 1\n",
            "Label1 - True: 1, Predicted: 3\n",
            "Label1 - True: 1, Predicted: 4\n",
            "Label1 - True: 1, Predicted: 2\n",
            "Label1 - True: 1, Predicted: 4\n",
            "Label1 - True: 1, Predicted: 4\n",
            "Label1 - True: 1, Predicted: 4\n",
            "Label1 - True: 1, Predicted: 1\n",
            "Label1 - True: 1, Predicted: 1\n",
            "Label1 - True: 1, Predicted: 2\n",
            "Label1 - True: 1, Predicted: 4\n",
            "Label1 - True: 1, Predicted: 1\n",
            "Label1 - True: 1, Predicted: 1\n",
            "Label1 - True: 1, Predicted: 1\n",
            "Label1 - True: 1, Predicted: 4\n",
            "Label1 - True: 1, Predicted: 1\n",
            "Label1 - True: 1, Predicted: 4\n",
            "Label1 - True: 1, Predicted: 2\n",
            "Label1 - True: 1, Predicted: 4\n",
            "Label1 - True: 1, Predicted: 2\n",
            "Label1 - True: 1, Predicted: 1\n",
            "Label1 - True: 1, Predicted: 5\n",
            "Label1 - True: 1, Predicted: 3\n",
            "Label1 - True: 1, Predicted: 2\n",
            "Label1 - True: 1, Predicted: 2\n",
            "Label1 - True: 1, Predicted: 2\n",
            "Label1 - True: 1, Predicted: 5\n",
            "Label1 - True: 1, Predicted: 2\n",
            "Label1 - True: 1, Predicted: 1\n",
            "Label1 - True: 1, Predicted: 4\n",
            "Label1 - True: 1, Predicted: 4\n",
            "Label1 - True: 1, Predicted: 5\n",
            "Label1 - True: 1, Predicted: 4\n",
            "Label1 - True: 1, Predicted: 3\n",
            "Label1 - True: 1, Predicted: 4\n",
            "Label1 - True: 1, Predicted: 1\n",
            "Label1 - True: 1, Predicted: 2\n",
            "Label1 - True: 1, Predicted: 1\n",
            "Label1 - True: 1, Predicted: 3\n",
            "Label1 - True: 1, Predicted: 1\n",
            "Label1 - True: 1, Predicted: 4\n",
            "Label1 - True: 1, Predicted: 4\n",
            "Label1 - True: 1, Predicted: 4\n",
            "Label1 - True: 1, Predicted: 3\n",
            "Label1 - True: 1, Predicted: 1\n",
            "Label1 - True: 1, Predicted: 1\n",
            "Label1 - True: 1, Predicted: 4\n",
            "Label1 - True: 1, Predicted: 1\n",
            "Label1 - True: 1, Predicted: 1\n",
            "Label1 - True: 1, Predicted: 4\n",
            "Label1 - True: 1, Predicted: 2\n",
            "Label1 - True: 1, Predicted: 1\n",
            "Label1 - True: 1, Predicted: 1\n",
            "Label1 - True: 1, Predicted: 3\n",
            "Label1 - True: 1, Predicted: 3\n",
            "Label1 - True: 1, Predicted: 4\n",
            "Label1 - True: 1, Predicted: 5\n",
            "Label1 - True: 1, Predicted: 4\n",
            "Label1 - True: 1, Predicted: 1\n",
            "Label1 - True: 1, Predicted: 5\n",
            "Label1 - True: 1, Predicted: 4\n",
            "Label1 - True: 1, Predicted: 4\n",
            "Label1 - True: 1, Predicted: 1\n",
            "Label1 - True: 1, Predicted: 3\n",
            "Label1 - True: 1, Predicted: 2\n",
            "Label1 - True: 1, Predicted: 4\n",
            "Label1 - True: 1, Predicted: 4\n",
            "Label1 - True: 1, Predicted: 3\n",
            "Label1 - True: 1, Predicted: 4\n",
            "Label1 - True: 1, Predicted: 1\n",
            "Label1 - True: 1, Predicted: 5\n",
            "Label1 - True: 2, Predicted: 2\n",
            "Label1 - True: 2, Predicted: 2\n",
            "Label1 - True: 2, Predicted: 3\n",
            "Label1 - True: 2, Predicted: 2\n",
            "Label1 - True: 2, Predicted: 1\n",
            "Label1 - True: 2, Predicted: 2\n",
            "Label1 - True: 2, Predicted: 5\n",
            "Label1 - True: 2, Predicted: 4\n",
            "Label1 - True: 2, Predicted: 3\n",
            "Label1 - True: 2, Predicted: 3\n",
            "Label1 - True: 2, Predicted: 4\n",
            "Label1 - True: 2, Predicted: 1\n",
            "Label1 - True: 2, Predicted: 2\n",
            "Label1 - True: 2, Predicted: 4\n",
            "Label1 - True: 2, Predicted: 3\n",
            "Label1 - True: 2, Predicted: 2\n",
            "Label1 - True: 2, Predicted: 4\n",
            "Label1 - True: 2, Predicted: 4\n",
            "Label1 - True: 2, Predicted: 2\n",
            "Label1 - True: 2, Predicted: 2\n",
            "Label1 - True: 2, Predicted: 2\n",
            "Label1 - True: 2, Predicted: 2\n",
            "Label1 - True: 2, Predicted: 1\n",
            "Label1 - True: 2, Predicted: 4\n",
            "Label1 - True: 2, Predicted: 3\n",
            "Label1 - True: 2, Predicted: 4\n",
            "Label1 - True: 2, Predicted: 2\n",
            "Label1 - True: 2, Predicted: 2\n",
            "Label1 - True: 2, Predicted: 3\n",
            "Label1 - True: 2, Predicted: 2\n",
            "Label1 - True: 2, Predicted: 3\n",
            "Label1 - True: 2, Predicted: 4\n",
            "Label1 - True: 2, Predicted: 5\n",
            "Label1 - True: 2, Predicted: 2\n",
            "Label1 - True: 2, Predicted: 1\n",
            "Label1 - True: 2, Predicted: 2\n",
            "Label1 - True: 2, Predicted: 2\n",
            "Label1 - True: 2, Predicted: 2\n",
            "Label1 - True: 2, Predicted: 1\n",
            "Label1 - True: 2, Predicted: 1\n",
            "Label1 - True: 2, Predicted: 1\n",
            "Label1 - True: 2, Predicted: 3\n",
            "Label1 - True: 2, Predicted: 3\n",
            "Label1 - True: 2, Predicted: 1\n",
            "Label1 - True: 2, Predicted: 3\n",
            "Label1 - True: 2, Predicted: 4\n",
            "Label1 - True: 2, Predicted: 1\n",
            "Label1 - True: 2, Predicted: 3\n",
            "Label1 - True: 2, Predicted: 4\n",
            "Label1 - True: 2, Predicted: 2\n",
            "Label1 - True: 2, Predicted: 3\n",
            "Label1 - True: 2, Predicted: 4\n",
            "Label1 - True: 2, Predicted: 2\n",
            "Label1 - True: 2, Predicted: 1\n",
            "Label1 - True: 2, Predicted: 1\n",
            "Label1 - True: 2, Predicted: 2\n",
            "Label1 - True: 2, Predicted: 4\n",
            "Label1 - True: 2, Predicted: 3\n",
            "Label1 - True: 2, Predicted: 2\n",
            "Label1 - True: 2, Predicted: 2\n",
            "Label1 - True: 2, Predicted: 3\n",
            "Label1 - True: 2, Predicted: 1\n",
            "Label1 - True: 2, Predicted: 2\n",
            "Label1 - True: 2, Predicted: 4\n",
            "Label1 - True: 2, Predicted: 1\n",
            "Label1 - True: 2, Predicted: 1\n",
            "Label1 - True: 2, Predicted: 2\n",
            "Label1 - True: 2, Predicted: 2\n",
            "Label1 - True: 2, Predicted: 3\n",
            "Label1 - True: 2, Predicted: 2\n",
            "Label1 - True: 2, Predicted: 1\n",
            "Label1 - True: 2, Predicted: 3\n",
            "Label1 - True: 2, Predicted: 1\n",
            "Label1 - True: 2, Predicted: 4\n",
            "Label1 - True: 2, Predicted: 3\n",
            "Label1 - True: 2, Predicted: 1\n",
            "Label1 - True: 2, Predicted: 2\n",
            "Label1 - True: 2, Predicted: 1\n",
            "Label1 - True: 2, Predicted: 4\n",
            "Label1 - True: 2, Predicted: 4\n",
            "Label1 - True: 2, Predicted: 5\n",
            "Label1 - True: 2, Predicted: 5\n",
            "Label1 - True: 2, Predicted: 3\n",
            "Label1 - True: 2, Predicted: 4\n",
            "Label1 - True: 2, Predicted: 4\n",
            "Label1 - True: 2, Predicted: 2\n",
            "Label1 - True: 2, Predicted: 1\n",
            "Label1 - True: 2, Predicted: 4\n",
            "Label1 - True: 2, Predicted: 2\n",
            "Label1 - True: 2, Predicted: 2\n",
            "Label1 - True: 2, Predicted: 2\n",
            "Label1 - True: 2, Predicted: 4\n",
            "Label1 - True: 2, Predicted: 3\n",
            "Label1 - True: 2, Predicted: 5\n",
            "Label1 - True: 2, Predicted: 4\n",
            "Label1 - True: 2, Predicted: 2\n",
            "Label1 - True: 2, Predicted: 4\n",
            "Label1 - True: 2, Predicted: 1\n",
            "Label1 - True: 2, Predicted: 4\n",
            "Label1 - True: 2, Predicted: 2\n",
            "Label1 - True: 3, Predicted: 2\n",
            "Label1 - True: 3, Predicted: 3\n",
            "Label1 - True: 3, Predicted: 4\n",
            "Label1 - True: 3, Predicted: 4\n",
            "Label1 - True: 3, Predicted: 4\n",
            "Label1 - True: 3, Predicted: 3\n",
            "Label1 - True: 3, Predicted: 4\n",
            "Label1 - True: 3, Predicted: 3\n",
            "Label1 - True: 3, Predicted: 4\n",
            "Label1 - True: 3, Predicted: 3\n",
            "Label1 - True: 3, Predicted: 3\n",
            "Label1 - True: 3, Predicted: 3\n",
            "Label1 - True: 3, Predicted: 3\n",
            "Label1 - True: 3, Predicted: 3\n",
            "Label1 - True: 3, Predicted: 3\n",
            "Label1 - True: 3, Predicted: 4\n",
            "Label1 - True: 3, Predicted: 3\n",
            "Label1 - True: 3, Predicted: 5\n",
            "Label1 - True: 3, Predicted: 4\n",
            "Label1 - True: 3, Predicted: 3\n",
            "Label1 - True: 3, Predicted: 5\n",
            "Label1 - True: 3, Predicted: 4\n",
            "Label1 - True: 3, Predicted: 3\n",
            "Label1 - True: 3, Predicted: 3\n",
            "Label1 - True: 3, Predicted: 4\n",
            "Label1 - True: 3, Predicted: 3\n",
            "Label1 - True: 3, Predicted: 4\n",
            "Label1 - True: 3, Predicted: 3\n",
            "Label1 - True: 3, Predicted: 3\n",
            "Label1 - True: 3, Predicted: 3\n",
            "Label1 - True: 3, Predicted: 3\n",
            "Label1 - True: 3, Predicted: 4\n",
            "Label1 - True: 3, Predicted: 2\n",
            "Label1 - True: 3, Predicted: 4\n",
            "Label1 - True: 3, Predicted: 4\n",
            "Label1 - True: 3, Predicted: 3\n",
            "Label1 - True: 3, Predicted: 2\n",
            "Label1 - True: 3, Predicted: 4\n",
            "Label1 - True: 3, Predicted: 3\n",
            "Label1 - True: 3, Predicted: 3\n",
            "Label1 - True: 3, Predicted: 3\n",
            "Label1 - True: 3, Predicted: 4\n",
            "Label1 - True: 3, Predicted: 2\n",
            "Label1 - True: 3, Predicted: 3\n",
            "Label1 - True: 3, Predicted: 3\n",
            "Label1 - True: 3, Predicted: 3\n",
            "Label1 - True: 3, Predicted: 3\n",
            "Label1 - True: 3, Predicted: 3\n",
            "Label1 - True: 3, Predicted: 3\n",
            "Label1 - True: 3, Predicted: 3\n",
            "Label1 - True: 3, Predicted: 4\n",
            "Label1 - True: 3, Predicted: 3\n",
            "Label1 - True: 3, Predicted: 4\n",
            "Label1 - True: 3, Predicted: 4\n",
            "Label1 - True: 3, Predicted: 3\n",
            "Label1 - True: 3, Predicted: 3\n",
            "Label1 - True: 3, Predicted: 4\n",
            "Label1 - True: 3, Predicted: 3\n",
            "Label1 - True: 3, Predicted: 4\n",
            "Label1 - True: 3, Predicted: 3\n",
            "Label1 - True: 3, Predicted: 3\n",
            "Label1 - True: 3, Predicted: 2\n",
            "Label1 - True: 3, Predicted: 4\n",
            "Label1 - True: 3, Predicted: 4\n",
            "Label1 - True: 3, Predicted: 3\n",
            "Label1 - True: 3, Predicted: 5\n",
            "Label1 - True: 3, Predicted: 2\n",
            "Label1 - True: 3, Predicted: 4\n",
            "Label1 - True: 3, Predicted: 4\n",
            "Label1 - True: 3, Predicted: 3\n",
            "Label1 - True: 3, Predicted: 3\n",
            "Label1 - True: 3, Predicted: 3\n",
            "Label1 - True: 3, Predicted: 3\n",
            "Label1 - True: 3, Predicted: 5\n",
            "Label1 - True: 3, Predicted: 3\n",
            "Label1 - True: 3, Predicted: 5\n",
            "Label1 - True: 3, Predicted: 3\n",
            "Label1 - True: 3, Predicted: 4\n",
            "Label1 - True: 3, Predicted: 4\n",
            "Label1 - True: 3, Predicted: 3\n",
            "Label1 - True: 3, Predicted: 3\n",
            "Label1 - True: 3, Predicted: 3\n",
            "Label1 - True: 3, Predicted: 3\n",
            "Label1 - True: 3, Predicted: 4\n",
            "Label1 - True: 3, Predicted: 2\n",
            "Label1 - True: 3, Predicted: 3\n",
            "Label1 - True: 3, Predicted: 4\n",
            "Label1 - True: 3, Predicted: 4\n",
            "Label1 - True: 3, Predicted: 1\n",
            "Label1 - True: 3, Predicted: 1\n",
            "Label1 - True: 3, Predicted: 2\n",
            "Label1 - True: 3, Predicted: 3\n",
            "Label1 - True: 3, Predicted: 3\n",
            "Label1 - True: 3, Predicted: 4\n",
            "Label1 - True: 3, Predicted: 3\n",
            "Label1 - True: 3, Predicted: 4\n",
            "Label1 - True: 3, Predicted: 3\n",
            "Label1 - True: 3, Predicted: 4\n",
            "Label1 - True: 3, Predicted: 3\n",
            "Label1 - True: 3, Predicted: 3\n",
            "Label1 - True: 4, Predicted: 4\n",
            "Label1 - True: 4, Predicted: 4\n",
            "Label1 - True: 4, Predicted: 3\n",
            "Label1 - True: 4, Predicted: 4\n",
            "Label1 - True: 4, Predicted: 2\n",
            "Label1 - True: 4, Predicted: 4\n",
            "Label1 - True: 4, Predicted: 4\n",
            "Label1 - True: 4, Predicted: 5\n",
            "Label1 - True: 4, Predicted: 4\n",
            "Label1 - True: 4, Predicted: 4\n",
            "Label1 - True: 4, Predicted: 4\n",
            "Label1 - True: 4, Predicted: 4\n",
            "Label1 - True: 4, Predicted: 4\n",
            "Label1 - True: 4, Predicted: 3\n",
            "Label1 - True: 4, Predicted: 4\n",
            "Label1 - True: 4, Predicted: 4\n",
            "Label1 - True: 4, Predicted: 4\n",
            "Label1 - True: 4, Predicted: 4\n",
            "Label1 - True: 4, Predicted: 4\n",
            "Label1 - True: 4, Predicted: 3\n",
            "Label1 - True: 4, Predicted: 1\n",
            "Label1 - True: 4, Predicted: 4\n",
            "Label1 - True: 4, Predicted: 4\n",
            "Label1 - True: 4, Predicted: 3\n",
            "Label1 - True: 4, Predicted: 4\n",
            "Label1 - True: 4, Predicted: 4\n",
            "Label1 - True: 4, Predicted: 4\n",
            "Label1 - True: 4, Predicted: 4\n",
            "Label1 - True: 4, Predicted: 3\n",
            "Label1 - True: 4, Predicted: 4\n",
            "Label1 - True: 4, Predicted: 3\n",
            "Label1 - True: 4, Predicted: 4\n",
            "Label1 - True: 4, Predicted: 3\n",
            "Label1 - True: 4, Predicted: 3\n",
            "Label1 - True: 4, Predicted: 2\n",
            "Label1 - True: 4, Predicted: 4\n",
            "Label1 - True: 4, Predicted: 4\n",
            "Label1 - True: 4, Predicted: 4\n",
            "Label1 - True: 4, Predicted: 3\n",
            "Label1 - True: 4, Predicted: 4\n",
            "Label1 - True: 4, Predicted: 3\n",
            "Label1 - True: 4, Predicted: 4\n",
            "Label1 - True: 4, Predicted: 3\n",
            "Label1 - True: 4, Predicted: 3\n",
            "Label1 - True: 4, Predicted: 4\n",
            "Label1 - True: 4, Predicted: 3\n",
            "Label1 - True: 4, Predicted: 4\n",
            "Label1 - True: 4, Predicted: 4\n",
            "Label1 - True: 4, Predicted: 4\n",
            "Label1 - True: 4, Predicted: 3\n",
            "Label1 - True: 4, Predicted: 3\n",
            "Label1 - True: 4, Predicted: 4\n",
            "Label1 - True: 4, Predicted: 4\n",
            "Label1 - True: 4, Predicted: 3\n",
            "Label1 - True: 4, Predicted: 3\n",
            "Label1 - True: 4, Predicted: 5\n",
            "Label1 - True: 4, Predicted: 1\n",
            "Label1 - True: 4, Predicted: 4\n",
            "Label1 - True: 4, Predicted: 4\n",
            "Label1 - True: 4, Predicted: 4\n",
            "Label1 - True: 4, Predicted: 4\n",
            "Label1 - True: 4, Predicted: 4\n",
            "Label1 - True: 4, Predicted: 1\n",
            "Label1 - True: 4, Predicted: 3\n",
            "Label1 - True: 4, Predicted: 3\n",
            "Label1 - True: 4, Predicted: 4\n",
            "Label1 - True: 4, Predicted: 4\n",
            "Label1 - True: 4, Predicted: 4\n",
            "Label1 - True: 4, Predicted: 5\n",
            "Label1 - True: 4, Predicted: 4\n",
            "Label1 - True: 4, Predicted: 4\n",
            "Label1 - True: 4, Predicted: 4\n",
            "Label1 - True: 4, Predicted: 3\n",
            "Label1 - True: 4, Predicted: 4\n",
            "Label1 - True: 4, Predicted: 4\n",
            "Label1 - True: 4, Predicted: 4\n",
            "Label1 - True: 4, Predicted: 5\n",
            "Label1 - True: 4, Predicted: 3\n",
            "Label1 - True: 4, Predicted: 4\n",
            "Label1 - True: 4, Predicted: 4\n",
            "Label1 - True: 4, Predicted: 4\n",
            "Label1 - True: 4, Predicted: 3\n",
            "Label1 - True: 4, Predicted: 4\n",
            "Label1 - True: 4, Predicted: 4\n",
            "Label1 - True: 4, Predicted: 5\n",
            "Label1 - True: 4, Predicted: 3\n",
            "Label1 - True: 4, Predicted: 4\n",
            "Label1 - True: 4, Predicted: 1\n",
            "Label1 - True: 4, Predicted: 3\n",
            "Label1 - True: 4, Predicted: 3\n",
            "Label1 - True: 4, Predicted: 4\n",
            "Label1 - True: 4, Predicted: 1\n",
            "Label1 - True: 4, Predicted: 4\n",
            "Label1 - True: 4, Predicted: 4\n",
            "Label1 - True: 4, Predicted: 4\n",
            "Label1 - True: 4, Predicted: 5\n",
            "Label1 - True: 4, Predicted: 1\n",
            "Label1 - True: 4, Predicted: 4\n",
            "Label1 - True: 4, Predicted: 4\n",
            "Label1 - True: 4, Predicted: 4\n",
            "Label1 - True: 5, Predicted: 1\n",
            "Label1 - True: 5, Predicted: 1\n",
            "Label1 - True: 5, Predicted: 2\n",
            "Label1 - True: 5, Predicted: 2\n",
            "Label1 - True: 5, Predicted: 4\n",
            "Label1 - True: 5, Predicted: 5\n",
            "Label1 - True: 5, Predicted: 3\n",
            "Label1 - True: 5, Predicted: 4\n",
            "Label1 - True: 5, Predicted: 4\n",
            "Label1 - True: 5, Predicted: 4\n",
            "Label1 - True: 5, Predicted: 3\n",
            "Label1 - True: 5, Predicted: 1\n",
            "Label1 - True: 5, Predicted: 5\n",
            "Label1 - True: 5, Predicted: 4\n",
            "Label1 - True: 5, Predicted: 5\n",
            "Label1 - True: 5, Predicted: 4\n",
            "Label1 - True: 5, Predicted: 2\n",
            "Label1 - True: 5, Predicted: 1\n",
            "Label1 - True: 5, Predicted: 4\n",
            "Label1 - True: 5, Predicted: 1\n",
            "Label1 - True: 5, Predicted: 4\n",
            "Label1 - True: 5, Predicted: 1\n",
            "Label1 - True: 5, Predicted: 4\n",
            "Label1 - True: 5, Predicted: 2\n",
            "Label1 - True: 5, Predicted: 4\n",
            "Label1 - True: 5, Predicted: 5\n",
            "Label1 - True: 5, Predicted: 4\n",
            "Label1 - True: 5, Predicted: 5\n",
            "Label1 - True: 5, Predicted: 4\n",
            "Label1 - True: 5, Predicted: 4\n",
            "Label1 - True: 5, Predicted: 4\n",
            "Label1 - True: 5, Predicted: 3\n",
            "Label1 - True: 5, Predicted: 4\n",
            "Label1 - True: 5, Predicted: 4\n",
            "Label1 - True: 5, Predicted: 4\n",
            "Label1 - True: 5, Predicted: 5\n",
            "Label1 - True: 5, Predicted: 4\n",
            "Label1 - True: 5, Predicted: 3\n",
            "Label1 - True: 5, Predicted: 5\n",
            "Label1 - True: 5, Predicted: 4\n",
            "Label1 - True: 5, Predicted: 4\n",
            "Label1 - True: 5, Predicted: 3\n",
            "Label1 - True: 5, Predicted: 3\n",
            "Label1 - True: 5, Predicted: 4\n",
            "Label1 - True: 5, Predicted: 4\n",
            "Label1 - True: 5, Predicted: 3\n",
            "Label1 - True: 5, Predicted: 3\n",
            "Label1 - True: 5, Predicted: 1\n",
            "Label1 - True: 5, Predicted: 4\n",
            "Label1 - True: 5, Predicted: 3\n",
            "Label1 - True: 5, Predicted: 4\n",
            "Label1 - True: 5, Predicted: 1\n",
            "Label1 - True: 5, Predicted: 5\n",
            "Label1 - True: 5, Predicted: 5\n",
            "Label1 - True: 5, Predicted: 4\n",
            "Label1 - True: 5, Predicted: 4\n",
            "Label1 - True: 5, Predicted: 4\n",
            "Label1 - True: 5, Predicted: 4\n",
            "Label1 - True: 5, Predicted: 4\n",
            "Label1 - True: 5, Predicted: 4\n",
            "Label1 - True: 5, Predicted: 4\n",
            "Label1 - True: 5, Predicted: 4\n",
            "Label1 - True: 5, Predicted: 4\n",
            "Label1 - True: 5, Predicted: 4\n",
            "Label1 - True: 5, Predicted: 5\n",
            "Label1 - True: 5, Predicted: 4\n",
            "Label1 - True: 5, Predicted: 4\n",
            "Label1 - True: 5, Predicted: 5\n",
            "Label1 - True: 5, Predicted: 2\n",
            "Label1 - True: 5, Predicted: 4\n",
            "Label1 - True: 5, Predicted: 5\n",
            "Label1 - True: 5, Predicted: 3\n",
            "Label1 - True: 5, Predicted: 4\n",
            "Label1 - True: 5, Predicted: 3\n",
            "Label1 - True: 5, Predicted: 4\n",
            "Label1 - True: 5, Predicted: 4\n",
            "Label1 - True: 5, Predicted: 4\n",
            "Label1 - True: 5, Predicted: 4\n",
            "Label1 - True: 5, Predicted: 5\n",
            "Label1 - True: 5, Predicted: 5\n",
            "Label1 - True: 5, Predicted: 5\n",
            "Label1 - True: 5, Predicted: 1\n",
            "Label1 - True: 5, Predicted: 1\n",
            "Label1 - True: 5, Predicted: 4\n",
            "Label1 - True: 5, Predicted: 1\n",
            "Label1 - True: 5, Predicted: 3\n",
            "Label1 - True: 5, Predicted: 5\n",
            "Label1 - True: 5, Predicted: 1\n",
            "Label1 - True: 5, Predicted: 4\n",
            "Label1 - True: 5, Predicted: 2\n",
            "Label1 - True: 5, Predicted: 5\n",
            "Label1 - True: 5, Predicted: 1\n",
            "Label1 - True: 5, Predicted: 5\n",
            "Label1 - True: 5, Predicted: 3\n",
            "Label1 - True: 5, Predicted: 5\n",
            "Label1 - True: 5, Predicted: 2\n",
            "Label1 - True: 5, Predicted: 4\n",
            "Label1 - True: 5, Predicted: 3\n",
            "Label1 - True: 5, Predicted: 3\n",
            "Label1 - True: 5, Predicted: 4\n"
          ]
        }
      ]
    },
    {
      "cell_type": "code",
      "source": [],
      "metadata": {
        "id": "gfi-UAsmFLqM"
      },
      "execution_count": 15,
      "outputs": []
    }
  ]
}