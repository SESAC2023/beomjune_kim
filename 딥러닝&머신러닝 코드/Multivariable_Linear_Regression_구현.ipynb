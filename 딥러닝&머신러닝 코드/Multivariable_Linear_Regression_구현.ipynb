{
  "nbformat": 4,
  "nbformat_minor": 0,
  "metadata": {
    "colab": {
      "provenance": []
    },
    "kernelspec": {
      "name": "python3",
      "display_name": "Python 3"
    },
    "language_info": {
      "name": "python"
    }
  },
  "cells": [
    {
      "cell_type": "code",
      "execution_count": 15,
      "metadata": {
        "id": "Fup3UzmKjgBy"
      },
      "outputs": [],
      "source": [
        "import matplotlib.pyplot as plt\n",
        "import torch\n",
        "import torchvision\n",
        "import numpy as np"
      ]
    },
    {
      "cell_type": "code",
      "source": [
        "X = [[1, 33],\n",
        "     [2, 27],\n",
        "     [3, 29],\n",
        "     [4, 45],\n",
        "     [5, 27],\n",
        "     [6, 33],\n",
        "     [7, 35]]\n",
        "Y = [25000, 55000, 75000, 125000, 128000, 155000, 182000]\n",
        "\n",
        "Y = [[i] for i in Y]\n",
        "\n",
        "x_data = torch.Tensor(X)\n",
        "y_data = torch.Tensor(Y)\n",
        "\n",
        "print(x_data)\n",
        "print(y_data)"
      ],
      "metadata": {
        "colab": {
          "base_uri": "https://localhost:8080/"
        },
        "id": "JjtFwW-zjzgD",
        "outputId": "29d1adb3-93da-42c2-bbea-9885748206bf"
      },
      "execution_count": 16,
      "outputs": [
        {
          "output_type": "stream",
          "name": "stdout",
          "text": [
            "tensor([[ 1., 33.],\n",
            "        [ 2., 27.],\n",
            "        [ 3., 29.],\n",
            "        [ 4., 45.],\n",
            "        [ 5., 27.],\n",
            "        [ 6., 33.],\n",
            "        [ 7., 35.]])\n",
            "tensor([[ 25000.],\n",
            "        [ 55000.],\n",
            "        [ 75000.],\n",
            "        [125000.],\n",
            "        [128000.],\n",
            "        [155000.],\n",
            "        [182000.]])\n"
          ]
        }
      ]
    },
    {
      "cell_type": "code",
      "source": [
        "class LinearRegressionModel(torch.nn.Module):\n",
        "  def __init__(self, input_dim, output_dim):\n",
        "    super(LinearRegressionModel, self).__init__()\n",
        "    self.linear = torch.nn.Linear(input_dim, output_dim)\n",
        "  def forward(self, x):\n",
        "    y_pred = self.linear(x)\n",
        "    return y_pred\n",
        "\n",
        "model = LinearRegressionModel(2, 1)"
      ],
      "metadata": {
        "id": "n2dy-lgdkB-z"
      },
      "execution_count": 17,
      "outputs": []
    },
    {
      "cell_type": "code",
      "source": [
        "criterion = torch.nn.MSELoss()\n",
        "optimizer = torch.optim.SGD(model.parameters(), lr=0.0001)"
      ],
      "metadata": {
        "id": "XnpWS8m3khbo"
      },
      "execution_count": 18,
      "outputs": []
    },
    {
      "cell_type": "code",
      "source": [
        "for epoch in range(100001):\n",
        "  pred_y = model(x_data)\n",
        "  loss = criterion(pred_y, y_data)\n",
        "  optimizer.zero_grad()\n",
        "  loss.backward()\n",
        "  optimizer.step()\n",
        "  if epoch % 10000 == 0:\n",
        "      print(\"[ epoch: %d, cost: %.2f ]\" % (epoch, loss.data))\n",
        "      print(\"w1 = %.2f, w2 = %.2f, b = %.2f\" % (model.linear.weight[0][0], model.linear.weight[0][1], model.linear.bias))\n",
        "\n",
        "print(\"f(x) = %.2fx1 + %.2fx2 + %.2f\" % (model.linear.weight[0][0], model.linear.weight[0][1], model.linear.bias))\n",
        "print(\"예측값: [%.2f]\" % (model(torch.Tensor([[1, 33]]))))\n",
        ""
      ],
      "metadata": {
        "colab": {
          "base_uri": "https://localhost:8080/"
        },
        "id": "o7H0lNm_kveq",
        "outputId": "0681d823-163c-4f55-f37b-dbce21cefdfa"
      },
      "execution_count": 19,
      "outputs": [
        {
          "output_type": "stream",
          "name": "stdout",
          "text": [
            "[ epoch: 0, cost: 14065350656.00 ]\n",
            "w1 = 105.37, w2 = 715.45, b = 20.75\n",
            "[ epoch: 10000, cost: 44815492.00 ]\n",
            "w1 = 24747.69, w2 = 303.11, b = -1555.15\n",
            "[ epoch: 20000, cost: 41595396.00 ]\n",
            "w1 = 24782.07, w2 = 352.10, b = -3348.22\n",
            "[ epoch: 30000, cost: 38736396.00 ]\n",
            "w1 = 24805.24, w2 = 399.39, b = -5037.96\n",
            "[ epoch: 40000, cost: 36197564.00 ]\n",
            "w1 = 24827.07, w2 = 443.94, b = -6630.28\n",
            "[ epoch: 50000, cost: 33943168.00 ]\n",
            "w1 = 24847.65, w2 = 485.93, b = -8130.72\n",
            "[ epoch: 60000, cost: 31941076.00 ]\n",
            "w1 = 24867.26, w2 = 525.47, b = -9544.76\n",
            "[ epoch: 70000, cost: 30163302.00 ]\n",
            "w1 = 24886.79, w2 = 562.61, b = -10877.20\n",
            "[ epoch: 80000, cost: 28584538.00 ]\n",
            "w1 = 24904.99, w2 = 597.63, b = -12132.87\n",
            "[ epoch: 90000, cost: 27182442.00 ]\n",
            "w1 = 24921.21, w2 = 630.74, b = -13316.30\n",
            "[ epoch: 100000, cost: 25937554.00 ]\n",
            "w1 = 24936.50, w2 = 661.94, b = -14431.32\n",
            "f(x) = 24936.50x1 + 661.94x2 + -14431.32\n",
            "예측값: [32349.36]\n"
          ]
        }
      ]
    },
    {
      "cell_type": "code",
      "source": [],
      "metadata": {
        "id": "wwxzC8xwnvj5"
      },
      "execution_count": null,
      "outputs": []
    }
  ]
}