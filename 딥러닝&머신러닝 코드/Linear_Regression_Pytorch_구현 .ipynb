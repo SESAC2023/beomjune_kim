{
  "nbformat": 4,
  "nbformat_minor": 0,
  "metadata": {
    "colab": {
      "provenance": []
    },
    "kernelspec": {
      "name": "python3",
      "display_name": "Python 3"
    },
    "language_info": {
      "name": "python"
    }
  },
  "cells": [
    {
      "cell_type": "code",
      "execution_count": 7,
      "metadata": {
        "colab": {
          "base_uri": "https://localhost:8080/"
        },
        "id": "n-NhZFNWQUJc",
        "outputId": "30e9088b-aa6f-4c1e-fc5f-8ca320935bb1"
      },
      "outputs": [
        {
          "output_type": "stream",
          "name": "stdout",
          "text": [
            "tensor([[1.],\n",
            "        [2.],\n",
            "        [3.],\n",
            "        [4.],\n",
            "        [5.],\n",
            "        [6.],\n",
            "        [7.]])\n",
            "torch.Size([7, 1])\n",
            "tensor([[ 25000.],\n",
            "        [ 55000.],\n",
            "        [ 75000.],\n",
            "        [110000.],\n",
            "        [128000.],\n",
            "        [155000.],\n",
            "        [180000.]])\n",
            "torch.Size([7, 1])\n"
          ]
        }
      ],
      "source": [
        "import torch\n",
        "\n",
        "X = [1, 2, 3, 4, 5, 6, 7]\n",
        "Y = [25000, 55000, 75000, 110000, 128000, 155000, 180000]\n",
        "\n",
        "X = [[i] for i in X]\n",
        "Y = [[i] for i in Y]\n",
        "\n",
        "x_data = torch.Tensor(X)\n",
        "y_data = torch.Tensor(Y)\n",
        "\n",
        "print(x_data)\n",
        "print(x_data.shape)\n",
        "\n",
        "print(y_data)\n",
        "print(y_data.shape)"
      ]
    },
    {
      "cell_type": "code",
      "source": [
        "class LinearRegressionModel(torch.nn.Module):\n",
        "  def __init__(self, input_dim, output_dim):\n",
        "    super(LinearRegressionModel, self).__init__()\n",
        "    self.linear = torch.nn.Linear(input_dim, output_dim)\n",
        "  def forward(self, x):\n",
        "    y_pred = self.linear(x)\n",
        "    return y_pred\n",
        "\n",
        "model = LinearRegressionModel(1, 1)\n",
        "\n",
        "criterion = torch.nn.MSELoss()\n",
        "optimizer = torch.optim.SGD(model.parameters(), lr=0.001)\n",
        "\n",
        "for epoch in range(10001):\n",
        "  pred_y = model(x_data)\n",
        "  loss = criterion(pred_y, y_data)\n",
        "  optimizer.zero_grad()\n",
        "  loss.backward()\n",
        "  optimizer.step()\n",
        "  if epoch % 1000 == 0:\n",
        "    print(\"[ epoch: %d, cost: %.2f ]\" % (epoch, loss.data))\n",
        "    print(\"w = %.2f, b = %.2f\" % (model.linear.weight, model.linear.bias))\n",
        "\n",
        "print(\"f(x) = %.2fx + %.2f\" % (model.linear.weight, model.linear.bias))\n",
        "print(\"예측값: [%.2f]\" % (model(torch.Tensor([[8]]))))\n"
      ],
      "metadata": {
        "colab": {
          "base_uri": "https://localhost:8080/"
        },
        "id": "l0Umb7srRRea",
        "outputId": "4267c593-5a2a-4edc-c84b-21a752850fa1"
      },
      "execution_count": 8,
      "outputs": [
        {
          "output_type": "stream",
          "name": "stdout",
          "text": [
            "[ epoch: 0, cost: 13454713856.00 ]\n",
            "w = 1037.35, b = 207.61\n",
            "[ epoch: 1000, cost: 9835979.00 ]\n",
            "w = 25147.80, b = 3880.04\n",
            "[ epoch: 2000, cost: 9190333.00 ]\n",
            "w = 25305.84, b = 3097.46\n",
            "[ epoch: 3000, cost: 8891122.00 ]\n",
            "w = 25413.41, b = 2564.73\n",
            "[ epoch: 4000, cost: 8752453.00 ]\n",
            "w = 25486.64, b = 2202.08\n",
            "[ epoch: 5000, cost: 8688182.00 ]\n",
            "w = 25536.49, b = 1955.20\n",
            "[ epoch: 6000, cost: 8658399.00 ]\n",
            "w = 25570.44, b = 1787.14\n",
            "[ epoch: 7000, cost: 8644594.00 ]\n",
            "w = 25593.55, b = 1672.73\n",
            "[ epoch: 8000, cost: 8638183.00 ]\n",
            "w = 25609.29, b = 1594.83\n",
            "[ epoch: 9000, cost: 8635221.00 ]\n",
            "w = 25619.99, b = 1541.79\n",
            "[ epoch: 10000, cost: 8633847.00 ]\n",
            "w = 25627.26, b = 1505.70\n",
            "f(x) = 25627.26x + 1505.70\n",
            "예측값: [206523.80]\n"
          ]
        }
      ]
    },
    {
      "cell_type": "code",
      "source": [],
      "metadata": {
        "id": "1VQmWoUNTk31"
      },
      "execution_count": null,
      "outputs": []
    }
  ]
}